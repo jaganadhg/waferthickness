{
 "cells": [
  {
   "cell_type": "markdown",
   "metadata": {},
   "source": [
    "## Semiconductor Wafer Thickness Prediction\n",
    "#### Jaganadh Gopinadhan (Jagan)\n",
    "https://www.linkedin.com/in/jaganadhg/\n",
    "\n",
    "## Introduction\n",
    "\n",
    "The Semiconductor Industry is one of the key Manufacturing and Research and Development (R&D) areas that supports digital infrastructure. Artificial Intelligence (AI) and Machine Learning (ML) have always complimented the industry with innovative solutions. It is one of the exciting areas to work with a large volume of data. Due to various Intellectual Property reasons, there was only one well-known Open Data available[1], which is the SECOM for Data and AI enthusiasts to play around with. This notebook is the second series to introduce Semiconductor data and use cases for the community. Previous posts in the series are accessible at https://jaganadhg.github.io/semicon-open-data/. \n",
    "\n",
    "In this post, we introduce semiconductor wafer/thin film thickness prediction. For a detaild notes on this please refer to the blog post - https://dev.to/aws-builders/nanofabrication-semiconductor-wafer-thickness-prediction-data-am \n",
    "\n",
    "\n",
    "## Dacon Thin Film Thickness Data \n",
    "\n",
    "The Dacon [1], a Korean data science competition platform like Kaggle, launched a 'Semiconductor think film thickness analysis contest' [2]. Considering all the IP-centric nature, they abstracted the data preserving the nature of the problem. The data is available on the Dacon competition page, subject to terms and conditions[2]. \n",
    "\n",
    "### Format \n",
    "\n",
    "The data was part of a competition, and the organizers provided data in two comma-separated value (CSV) files. The first file was training data with four target thickness measurements and test data without the target. The training file consists of 810k observations with 230 attributes, out of which four attributes are the thickness measurement. The test data-set which is meant for final submission is only 1k records.  \n",
    "\n",
    "### Data Attributes \n",
    "\n",
    "The first four attributes measure the thickness of the four layers layer_1 through 4. The unit of measurement is nm in scale. The materials under reference for this measurement are Si3N4 (Silicon Nitrate), SiO2 (Silicon Dioxide), Si3N4 (Silicon Nitride), and SiO2. The rest of the attributes are masked values to protect IP. These values are expressed as wavenumber (reciprocal of wavelength). The column names are 0 - 255, and it is between 285 to 800 nm. A plot of the random record is provided below. This plot represents reflectance in y, and x represents the values 0 - 255 in the data. \n",
    "\n",
    "### Let's Explore Data"
   ]
  },
  {
   "cell_type": "code",
   "execution_count": 27,
   "metadata": {},
   "outputs": [],
   "source": [
    "%matplotlib inline"
   ]
  },
  {
   "cell_type": "code",
   "execution_count": 28,
   "metadata": {},
   "outputs": [],
   "source": [
    "import matplotlib.pyplot as plt\n",
    "#import seaborn as sns\n",
    "import pandas as pd\n",
    "\n",
    "import numpy as np\n",
    "\n",
    "from xgboost import XGBRegressor\n",
    "from sklearn.multioutput import (RegressorChain,\n",
    "                                MultiOutputRegressor)\n",
    "from sklearn.linear_model import (OrthogonalMatchingPursuitCV,\n",
    "                                 PassiveAggressiveRegressor)\n",
    "from sklearn.model_selection import (RepeatedKFold,\n",
    "                                     GridSearchCV,\n",
    "                                    cross_val_score)\n",
    "from sklearn.svm import LinearSVR\n",
    "from sklearn.metrics import mean_absolute_error"
   ]
  },
  {
   "cell_type": "markdown",
   "metadata": {},
   "source": [
    "### Data"
   ]
  },
  {
   "cell_type": "code",
   "execution_count": 29,
   "metadata": {},
   "outputs": [],
   "source": [
    "dacon_data = pd.read_csv(\"../data/train.csv\")"
   ]
  },
  {
   "cell_type": "code",
   "execution_count": 30,
   "metadata": {},
   "outputs": [
    {
     "data": {
      "text/plain": [
       "(810000, 230)"
      ]
     },
     "execution_count": 30,
     "metadata": {},
     "output_type": "execute_result"
    }
   ],
   "source": [
    "dacon_data.shape"
   ]
  },
  {
   "cell_type": "code",
   "execution_count": 31,
   "metadata": {},
   "outputs": [
    {
     "data": {
      "text/html": [
       "<div>\n",
       "<style scoped>\n",
       "    .dataframe tbody tr th:only-of-type {\n",
       "        vertical-align: middle;\n",
       "    }\n",
       "\n",
       "    .dataframe tbody tr th {\n",
       "        vertical-align: top;\n",
       "    }\n",
       "\n",
       "    .dataframe thead th {\n",
       "        text-align: right;\n",
       "    }\n",
       "</style>\n",
       "<table border=\"1\" class=\"dataframe\">\n",
       "  <thead>\n",
       "    <tr style=\"text-align: right;\">\n",
       "      <th></th>\n",
       "      <th>layer_1</th>\n",
       "      <th>layer_2</th>\n",
       "      <th>layer_3</th>\n",
       "      <th>layer_4</th>\n",
       "      <th>0</th>\n",
       "      <th>1</th>\n",
       "      <th>2</th>\n",
       "      <th>3</th>\n",
       "      <th>4</th>\n",
       "      <th>5</th>\n",
       "      <th>...</th>\n",
       "      <th>216</th>\n",
       "      <th>217</th>\n",
       "      <th>218</th>\n",
       "      <th>219</th>\n",
       "      <th>220</th>\n",
       "      <th>221</th>\n",
       "      <th>222</th>\n",
       "      <th>223</th>\n",
       "      <th>224</th>\n",
       "      <th>225</th>\n",
       "    </tr>\n",
       "  </thead>\n",
       "  <tbody>\n",
       "    <tr>\n",
       "      <th>0</th>\n",
       "      <td>10</td>\n",
       "      <td>10</td>\n",
       "      <td>10</td>\n",
       "      <td>10</td>\n",
       "      <td>0.254551</td>\n",
       "      <td>0.258823</td>\n",
       "      <td>0.254659</td>\n",
       "      <td>0.252085</td>\n",
       "      <td>0.247678</td>\n",
       "      <td>0.253614</td>\n",
       "      <td>...</td>\n",
       "      <td>0.354750</td>\n",
       "      <td>0.369223</td>\n",
       "      <td>0.388184</td>\n",
       "      <td>0.408496</td>\n",
       "      <td>0.414564</td>\n",
       "      <td>0.429403</td>\n",
       "      <td>0.419225</td>\n",
       "      <td>0.443250</td>\n",
       "      <td>0.433414</td>\n",
       "      <td>0.465502</td>\n",
       "    </tr>\n",
       "    <tr>\n",
       "      <th>1</th>\n",
       "      <td>10</td>\n",
       "      <td>10</td>\n",
       "      <td>10</td>\n",
       "      <td>20</td>\n",
       "      <td>0.205062</td>\n",
       "      <td>0.225544</td>\n",
       "      <td>0.217758</td>\n",
       "      <td>0.202169</td>\n",
       "      <td>0.199633</td>\n",
       "      <td>0.207380</td>\n",
       "      <td>...</td>\n",
       "      <td>0.557203</td>\n",
       "      <td>0.573656</td>\n",
       "      <td>0.587998</td>\n",
       "      <td>0.612754</td>\n",
       "      <td>0.627825</td>\n",
       "      <td>0.633393</td>\n",
       "      <td>0.637706</td>\n",
       "      <td>0.625981</td>\n",
       "      <td>0.653231</td>\n",
       "      <td>0.637853</td>\n",
       "    </tr>\n",
       "    <tr>\n",
       "      <th>2</th>\n",
       "      <td>10</td>\n",
       "      <td>10</td>\n",
       "      <td>10</td>\n",
       "      <td>30</td>\n",
       "      <td>0.189196</td>\n",
       "      <td>0.165869</td>\n",
       "      <td>0.177655</td>\n",
       "      <td>0.156822</td>\n",
       "      <td>0.175094</td>\n",
       "      <td>0.177755</td>\n",
       "      <td>...</td>\n",
       "      <td>0.699864</td>\n",
       "      <td>0.708688</td>\n",
       "      <td>0.721982</td>\n",
       "      <td>0.713464</td>\n",
       "      <td>0.743030</td>\n",
       "      <td>0.741709</td>\n",
       "      <td>0.747743</td>\n",
       "      <td>0.746037</td>\n",
       "      <td>0.737356</td>\n",
       "      <td>0.750391</td>\n",
       "    </tr>\n",
       "    <tr>\n",
       "      <th>3</th>\n",
       "      <td>10</td>\n",
       "      <td>10</td>\n",
       "      <td>10</td>\n",
       "      <td>40</td>\n",
       "      <td>0.131003</td>\n",
       "      <td>0.120076</td>\n",
       "      <td>0.138975</td>\n",
       "      <td>0.117931</td>\n",
       "      <td>0.130566</td>\n",
       "      <td>0.131262</td>\n",
       "      <td>...</td>\n",
       "      <td>0.764786</td>\n",
       "      <td>0.763788</td>\n",
       "      <td>0.770017</td>\n",
       "      <td>0.787571</td>\n",
       "      <td>0.778866</td>\n",
       "      <td>0.776969</td>\n",
       "      <td>0.774712</td>\n",
       "      <td>0.801526</td>\n",
       "      <td>0.805305</td>\n",
       "      <td>0.784057</td>\n",
       "    </tr>\n",
       "    <tr>\n",
       "      <th>4</th>\n",
       "      <td>10</td>\n",
       "      <td>10</td>\n",
       "      <td>10</td>\n",
       "      <td>50</td>\n",
       "      <td>0.091033</td>\n",
       "      <td>0.086893</td>\n",
       "      <td>0.108125</td>\n",
       "      <td>0.080405</td>\n",
       "      <td>0.105917</td>\n",
       "      <td>0.077083</td>\n",
       "      <td>...</td>\n",
       "      <td>0.786677</td>\n",
       "      <td>0.802271</td>\n",
       "      <td>0.806557</td>\n",
       "      <td>0.799614</td>\n",
       "      <td>0.789333</td>\n",
       "      <td>0.804087</td>\n",
       "      <td>0.787763</td>\n",
       "      <td>0.794948</td>\n",
       "      <td>0.819105</td>\n",
       "      <td>0.801781</td>\n",
       "    </tr>\n",
       "  </tbody>\n",
       "</table>\n",
       "<p>5 rows × 230 columns</p>\n",
       "</div>"
      ],
      "text/plain": [
       "   layer_1  layer_2  layer_3  layer_4         0         1         2         3  \\\n",
       "0       10       10       10       10  0.254551  0.258823  0.254659  0.252085   \n",
       "1       10       10       10       20  0.205062  0.225544  0.217758  0.202169   \n",
       "2       10       10       10       30  0.189196  0.165869  0.177655  0.156822   \n",
       "3       10       10       10       40  0.131003  0.120076  0.138975  0.117931   \n",
       "4       10       10       10       50  0.091033  0.086893  0.108125  0.080405   \n",
       "\n",
       "          4         5  ...       216       217       218       219       220  \\\n",
       "0  0.247678  0.253614  ...  0.354750  0.369223  0.388184  0.408496  0.414564   \n",
       "1  0.199633  0.207380  ...  0.557203  0.573656  0.587998  0.612754  0.627825   \n",
       "2  0.175094  0.177755  ...  0.699864  0.708688  0.721982  0.713464  0.743030   \n",
       "3  0.130566  0.131262  ...  0.764786  0.763788  0.770017  0.787571  0.778866   \n",
       "4  0.105917  0.077083  ...  0.786677  0.802271  0.806557  0.799614  0.789333   \n",
       "\n",
       "        221       222       223       224       225  \n",
       "0  0.429403  0.419225  0.443250  0.433414  0.465502  \n",
       "1  0.633393  0.637706  0.625981  0.653231  0.637853  \n",
       "2  0.741709  0.747743  0.746037  0.737356  0.750391  \n",
       "3  0.776969  0.774712  0.801526  0.805305  0.784057  \n",
       "4  0.804087  0.787763  0.794948  0.819105  0.801781  \n",
       "\n",
       "[5 rows x 230 columns]"
      ]
     },
     "execution_count": 31,
     "metadata": {},
     "output_type": "execute_result"
    }
   ],
   "source": [
    "dacon_data.head()"
   ]
  },
  {
   "cell_type": "code",
   "execution_count": 32,
   "metadata": {},
   "outputs": [],
   "source": [
    "nan_count = dacon_data.isnull().sum(axis=0)/len(dacon_data)*100"
   ]
  },
  {
   "cell_type": "markdown",
   "metadata": {},
   "source": [
    "### Plot the Reflectence Data\n",
    "Refer to the section 'Data Attributes' in the blog post for detailed discussion. \n",
    "https://dev.to/aws-builders/nanofabrication-semiconductor-wafer-thickness-prediction-data-am"
   ]
  },
  {
   "cell_type": "code",
   "execution_count": 33,
   "metadata": {},
   "outputs": [],
   "source": [
    "def plot_reflectance(ref_data: pd.DataFrame, rev : bool = False) -> None:\n",
    "    \"\"\" Plot reflectance data \n",
    "        :params ref_data: de-identified values 0~225\n",
    "        :params rev: reverse the data based om exploration reversed data \n",
    "        matches with theoritical values obtained from Filmetrics data\n",
    "    \"\"\"\n",
    "\n",
    "    spectra = ref_data[4:]\n",
    "    if rev is True:\n",
    "        spectra = spectra[::-1]\n",
    "        spectra.index = spectra.index[::-1]\n",
    "    \n",
    "    thickness = ref_data[:4].tolist()\n",
    "    thickness = list(map(int,thickness))\n",
    "    thickness = list(map(str,thickness))\n",
    "    axs = spectra.plot(kind='line',\n",
    "                      figsize=(10,4))\n",
    "    \n",
    "    axs.set_title(f\"Thickness {', '.join(thickness)}\") #.format(\", \".join(thickness)))\n",
    "    axs.set_xlabel(\"De-identified values 0~225\")\n",
    "    axs.set_ylabel(\"Reflectance\")"
   ]
  },
  {
   "cell_type": "code",
   "execution_count": 34,
   "metadata": {},
   "outputs": [
    {
     "data": {
      "image/png": "[encoded data removed]",
      "text/plain": [
       "<Figure size 720x288 with 1 Axes>"
      ]
     },
     "metadata": {
      "needs_background": "light"
     },
     "output_type": "display_data"
    }
   ],
   "source": [
    "plot_reflectance(dacon_data.loc[3000], rev=True)"
   ]
  },
  {
   "cell_type": "code",
   "execution_count": 35,
   "metadata": {},
   "outputs": [
    {
     "data": {
      "image/png": "[encoded data removed]",
      "text/plain": [
       "<Figure size 720x288 with 1 Axes>"
      ]
     },
     "metadata": {
      "needs_background": "light"
     },
     "output_type": "display_data"
    }
   ],
   "source": [
    "plot_reflectance(dacon_data.loc[10], rev=True)"
   ]
  },
  {
   "cell_type": "code",
   "execution_count": 36,
   "metadata": {},
   "outputs": [
    {
     "data": {
      "image/png": "[encoded data removed]",
      "text/plain": [
       "<Figure size 720x288 with 1 Axes>"
      ]
     },
     "metadata": {
      "needs_background": "light"
     },
     "output_type": "display_data"
    }
   ],
   "source": [
    "plot_reflectance(dacon_data.loc[10000], rev=True)"
   ]
  },
  {
   "cell_type": "markdown",
   "metadata": {},
   "source": [
    "## Build a Base Model\n",
    "\n",
    "As discussed in the original blog post, we attempt to build a baseline model here. The three algorithms used here are Support Vector Regression, Passive Aggressive Regressor, and XGBoost. We could try more such as Deep Learning, but leaving the bigger task to the community!"
   ]
  },
  {
   "cell_type": "code",
   "execution_count": 37,
   "metadata": {},
   "outputs": [],
   "source": [
    "def create_train_test_split(data_set : pd.DataFrame) -> dict:\n",
    "    \"\"\" Create a Training, Test and Validation Split from the data\n",
    "        :params data_set; Dataset for splitting\n",
    "        :returns data_split: training testing and validation as list of DataFrames\n",
    "        The function will split data by 60 20 20\n",
    "        Reference - https://stackoverflow.com/questions/38250710/how-to-split-data-into-3-sets-train-validation-and-test\n",
    "    \"\"\"\n",
    "    train, validate, test = np.split(data_set.sample(frac=1),\n",
    "                                     [int(.6*len(data_set)),\n",
    "                                      int(.8*len(data_set))])\n",
    "    \n",
    "    return {'train':train, 'test':test,'validate':validate}"
   ]
  },
  {
   "cell_type": "code",
   "execution_count": 38,
   "metadata": {},
   "outputs": [],
   "source": [
    "data_split = create_train_test_split(dacon_data)"
   ]
  },
  {
   "cell_type": "code",
   "execution_count": 39,
   "metadata": {},
   "outputs": [],
   "source": [
    "X_train = data_split['train']"
   ]
  },
  {
   "cell_type": "code",
   "execution_count": 40,
   "metadata": {},
   "outputs": [],
   "source": [
    "X_train = data_split['train'][dacon_data.columns[4:]]\n",
    "y_train = data_split['train'][dacon_data.columns[:4]]"
   ]
  },
  {
   "cell_type": "markdown",
   "metadata": {},
   "source": [
    "### Support Vector Regression Model"
   ]
  },
  {
   "cell_type": "code",
   "execution_count": 41,
   "metadata": {},
   "outputs": [],
   "source": [
    "svm_ = LinearSVR()\n",
    "svm_mo_regressor = MultiOutputRegressor(svm_)"
   ]
  },
  {
   "cell_type": "code",
   "execution_count": 42,
   "metadata": {},
   "outputs": [],
   "source": [
    "_ = svm_mo_regressor.fit(X_train,\n",
    "                    y_train)"
   ]
  },
  {
   "cell_type": "code",
   "execution_count": 43,
   "metadata": {},
   "outputs": [],
   "source": [
    "X_val = data_split['validate'][dacon_data.columns[4:]]\n",
    "y_val = data_split['validate'][dacon_data.columns[:4]]"
   ]
  },
  {
   "cell_type": "code",
   "execution_count": 44,
   "metadata": {},
   "outputs": [],
   "source": [
    "val_pred = svm_mo_regressor.predict(X_val)"
   ]
  },
  {
   "cell_type": "code",
   "execution_count": 45,
   "metadata": {},
   "outputs": [
    {
     "data": {
      "text/plain": [
       "73.284922352966"
      ]
     },
     "execution_count": 45,
     "metadata": {},
     "output_type": "execute_result"
    }
   ],
   "source": [
    "mean_absolute_error(y_val, val_pred)"
   ]
  },
  {
   "cell_type": "markdown",
   "metadata": {},
   "source": [
    "We got an RMSE of 73.22 with this model!"
   ]
  },
  {
   "cell_type": "markdown",
   "metadata": {},
   "source": [
    "#### Passive Aggresive Regression"
   ]
  },
  {
   "cell_type": "code",
   "execution_count": 46,
   "metadata": {},
   "outputs": [],
   "source": [
    "par = PassiveAggressiveRegressor()\n",
    "po_mo_regressor = MultiOutputRegressor(par)"
   ]
  },
  {
   "cell_type": "code",
   "execution_count": 47,
   "metadata": {},
   "outputs": [],
   "source": [
    "_ = po_mo_regressor.fit(X_train,\n",
    "                    y_train)"
   ]
  },
  {
   "cell_type": "code",
   "execution_count": 48,
   "metadata": {},
   "outputs": [
    {
     "data": {
      "text/plain": [
       "78.50190112498728"
      ]
     },
     "execution_count": 48,
     "metadata": {},
     "output_type": "execute_result"
    }
   ],
   "source": [
    "val_pred_pa = po_mo_regressor.predict(X_val)\n",
    "mean_absolute_error(y_val, val_pred_pa)"
   ]
  },
  {
   "cell_type": "markdown",
   "metadata": {},
   "source": [
    "We got an RMSE of 83.53 with this model!"
   ]
  },
  {
   "cell_type": "markdown",
   "metadata": {},
   "source": [
    "### XGBoost"
   ]
  },
  {
   "cell_type": "code",
   "execution_count": 49,
   "metadata": {},
   "outputs": [],
   "source": [
    "xgbr = XGBRegressor(n_estimators=1000,\n",
    "                    max_depth=7, \n",
    "                    eta=0.1,\n",
    "                    subsample=0.7,\n",
    "                    colsample_bytree=0.8,\n",
    "                   n_jobs=4)\n",
    "mo_xgb = MultiOutputRegressor(xgbr)"
   ]
  },
  {
   "cell_type": "code",
   "execution_count": 50,
   "metadata": {},
   "outputs": [],
   "source": [
    "_ = mo_xgb.fit(X_train, y_train)"
   ]
  },
  {
   "cell_type": "code",
   "execution_count": 51,
   "metadata": {},
   "outputs": [],
   "source": [
    "xgb_pred = mo_xgb.predict(X_val)"
   ]
  },
  {
   "cell_type": "code",
   "execution_count": 52,
   "metadata": {},
   "outputs": [
    {
     "data": {
      "text/plain": [
       "30.850370642410176"
      ]
     },
     "execution_count": 52,
     "metadata": {},
     "output_type": "execute_result"
    }
   ],
   "source": [
    "mean_absolute_error(y_val, xgb_pred)"
   ]
  },
  {
   "cell_type": "markdown",
   "metadata": {},
   "source": [
    "We got an RMSE of 30.85 with this model!"
   ]
  },
  {
   "cell_type": "markdown",
   "metadata": {},
   "source": [
    "### Reference\n",
    "[1] https://archive.ics.uci.edu/ml/datasets/SECOM "
   ]
  },
  {
   "cell_type": "code",
   "execution_count": null,
   "metadata": {},
   "outputs": [],
   "source": []
  }
 ],
 "metadata": {
  "instance_type": "ml.t3.xlarge",
  "interpreter": {
   "hash": "69c04fe5e6910b9ea45d27b2c457f1f28a4d2f04d27bc6acecc7576591a83e0d"
  },
  "kernelspec": {
   "display_name": "Python 3 (Data Science)",
   "language": "python",
   "name": "python3__SAGEMAKER_INTERNAL__arn:aws:sagemaker:us-east-1:081325390199:image/datascience-1.0"
  },
  "language_info": {
   "codemirror_mode": {
    "name": "ipython",
    "version": 3
   },
   "file_extension": ".py",
   "mimetype": "text/x-python",
   "name": "python",
   "nbconvert_exporter": "python",
   "pygments_lexer": "ipython3",
   "version": "3.7.10"
  }
 },
 "nbformat": 4,
 "nbformat_minor": 4
}
